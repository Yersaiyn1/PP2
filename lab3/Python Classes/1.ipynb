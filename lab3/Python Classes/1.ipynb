{
 "cells": [
  {
   "cell_type": "markdown",
   "metadata": {},
   "source": [
    "1.Define a class which has at least two methods: getString: to get a string from console input printString: to print the string in upper case."
   ]
  },
  {
   "cell_type": "code",
   "execution_count": 2,
   "metadata": {},
   "outputs": [
    {
     "name": "stdout",
     "output_type": "stream",
     "text": [
      "KEY\n"
     ]
    }
   ],
   "source": [
    "class StringProcessor:\n",
    "    def __init__(self):\n",
    "        self.input_string = \"\"\n",
    "    def getString(self):\n",
    "        self.input_string = input(\"Enter a string: \")\n",
    "    def printString(self):\n",
    "        print(self.input_string.upper())\n",
    "\n",
    "if __name__ == \"__main__\":\n",
    "    sp = StringProcessor()\n",
    "    sp.getString()\n",
    "    sp.printString()\n",
    "    "
   ]
  },
  {
   "cell_type": "markdown",
   "metadata": {},
   "source": [
    "2.Define a class named Shape and its subclass Square. The Square class has an init function which takes a length as argument. Both classes have a area function which can print the area of the shape where Shape's area is 0 by default."
   ]
  },
  {
   "cell_type": "code",
   "execution_count": 5,
   "metadata": {},
   "outputs": [
    {
     "name": "stdout",
     "output_type": "stream",
     "text": [
      "Area-- 0\n",
      "Square area-- 49\n"
     ]
    }
   ],
   "source": [
    "class Shape:\n",
    "    def area(self):\n",
    "        print(\"Area--\", 0)\n",
    "\n",
    "class Square(Shape):\n",
    "    def __init__(self, length):\n",
    "        self.length = length\n",
    "    def area(self):\n",
    "        print(\"Square area--\", self.length * self.length)\n",
    "\n",
    "if __name__ == \"__main__\":\n",
    "    s = Shape()\n",
    "    s.area()\n",
    "    sq = Square(7)\n",
    "    sq.area()"
   ]
  },
  {
   "cell_type": "markdown",
   "metadata": {},
   "source": [
    "3.Define a class named Rectangle which inherits from Shape class from task 2. Class instance can be constructed by a length and width. The Rectangle class has a method which can compute the area."
   ]
  },
  {
   "cell_type": "code",
   "execution_count": 6,
   "metadata": {},
   "outputs": [
    {
     "name": "stdout",
     "output_type": "stream",
     "text": [
      "Rectangle area-- 45\n"
     ]
    }
   ],
   "source": [
    "class Shape:\n",
    "    def area(self):\n",
    "        print(\"Area:\", 0)\n",
    "\n",
    "class Rectangle(Shape):\n",
    "    def __init__(self, length, width):\n",
    "        self.length = length\n",
    "        self.width = width\n",
    "    def area(self):\n",
    "        print(\"Rectangle area--\", self.length * self.width)\n",
    "\n",
    "if __name__ == \"__main__\":\n",
    "    rect = Rectangle(9, 5)\n",
    "    rect.area()"
   ]
  },
  {
   "cell_type": "markdown",
   "metadata": {},
   "source": [
    "4.Write the definition of a Point class. Objects from this class should have a\n",
    "\n",
    "a method show to display the coordinates of the point\n",
    "a method move to change these coordinates\n",
    "a method dist that computes the distance between 2 point"
   ]
  },
  {
   "cell_type": "code",
   "execution_count": 9,
   "metadata": {},
   "outputs": [
    {
     "name": "stdout",
     "output_type": "stream",
     "text": [
      "Point-- (0, 0)\n",
      "Point-- (6, 8)\n",
      "Distance-- 10.0\n",
      "Point-- (0, 0)\n"
     ]
    }
   ],
   "source": [
    "import math\n",
    "\n",
    "class Point:\n",
    "    def __init__(self, x, y):\n",
    "        self.x = x\n",
    "        self.y = y\n",
    "\n",
    "    def show(self):\n",
    "         print(f\"Point-- ({self.x}, {self.y})\")\n",
    "\n",
    "    def move_crdt(self, dx, dy):\n",
    "        self.x += dx\n",
    "        self.y += dy\n",
    "\n",
    "    def dist(self, other_point):\n",
    "        distance = math.sqrt((self.x - other_point.x) ** 2 + (self.y - other_point.y) ** 2)\n",
    "        return distance\n",
    "if __name__ == \"__main__\":\n",
    "    p1 = Point(0, 0)\n",
    "    p2 = Point(6, 8)\n",
    "    p1.show()\n",
    "    p2.show()\n",
    "    print(\"Distance--\", p1.dist(p2))\n",
    "    p1.move_crdt(0, 0)\n",
    "    p1.show()"
   ]
  },
  {
   "cell_type": "markdown",
   "metadata": {},
   "source": [
    "5.Create a bank account class that has attributes owner, balance and two methods deposit and withdraw. Withdrawals may not exceed the available balance. Instantiate your class, make several deposits and withdrawals, and test to make sure the account can't be overdrawn."
   ]
  },
  {
   "cell_type": "code",
   "execution_count": 10,
   "metadata": {},
   "outputs": [
    {
     "name": "stdout",
     "output_type": "stream",
     "text": [
      "Deposited 70. New balance: 230\n",
      "Withdrew 20. New balance: 210\n",
      "Withdrew 170. New balance: 40\n",
      "Insufficient funds for withdrawal!\n"
     ]
    }
   ],
   "source": [
    "class Account:\n",
    "    def __init__(self, owner, balance=0):\n",
    "        self.owner = owner\n",
    "        self.balance = balance\n",
    "    def deposit(self, amount):\n",
    "        if amount > 0:\n",
    "            self.balance += amount\n",
    "            print(f\"Deposited {amount}. New balance: {self.balance}\")\n",
    "        else:\n",
    "            print(\"Deposit amount must be positive.\")\n",
    "    def withdraw(self, amount):\n",
    "        if amount > self.balance:\n",
    "            print(\"Insufficient funds for withdrawal!\")\n",
    "        elif amount <= 0:\n",
    "            print(\"Withdrawal amount must be positive.\")\n",
    "        else:\n",
    "            self.balance -= amount\n",
    "            print(f\"Withdrew {amount}. New balance: {self.balance}\")\n",
    "\n",
    "if __name__ == \"__main__\":\n",
    "    acct = Account(\"Tolegen\", 160)\n",
    "    acct.deposit(70)\n",
    "    acct.withdraw(20)\n",
    "    acct.withdraw(170)\n",
    "    acct.withdraw(65)"
   ]
  },
  {
   "cell_type": "markdown",
   "metadata": {},
   "source": [
    "    6.Write a program which can filter prime numbers in a list by using filter function. Note: Use lambda to define anonymous functions."
   ]
  },
  {
   "cell_type": "code",
   "execution_count": 11,
   "metadata": {},
   "outputs": [
    {
     "name": "stdout",
     "output_type": "stream",
     "text": [
      "Prime numbers between 1 and 25: [2, 3, 5, 7, 11, 13, 17, 19, 23]\n"
     ]
    }
   ],
   "source": [
    "numbers = list(range(1, 26))\n",
    "prime_filter = lambda n: n > 1 and all(n % i != 0 for i in range(2, int(n**0.5) + 1))\n",
    "primes = list(filter(prime_filter, numbers))\n",
    "print(\"Prime numbers between 1 and 25:\", primes)"
   ]
  }
 ],
 "metadata": {
  "kernelspec": {
   "display_name": "Python 3",
   "language": "python",
   "name": "python3"
  },
  "language_info": {
   "codemirror_mode": {
    "name": "ipython",
    "version": 3
   },
   "file_extension": ".py",
   "mimetype": "text/x-python",
   "name": "python",
   "nbconvert_exporter": "python",
   "pygments_lexer": "ipython3",
   "version": "3.11.9"
  }
 },
 "nbformat": 4,
 "nbformat_minor": 2
}
