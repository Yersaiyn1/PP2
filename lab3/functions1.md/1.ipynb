{
 "cells": [
  {
   "cell_type": "markdown",
   "metadata": {},
   "source": [
    "1.A recipe you are reading states how many grams you need for the ingredient. Unfortunately, your store only sells items in ounces. Create a function to convert grams to ounces. ounces = 28.3495231 * grams"
   ]
  },
  {
   "cell_type": "code",
   "execution_count": 1,
   "metadata": {},
   "outputs": [
    {
     "name": "stdout",
     "output_type": "stream",
     "text": [
      "2834.9523099999997\n"
     ]
    }
   ],
   "source": [
    "def grams_to_ounces(grams):\n",
    "    return 28.3495231 * grams\n",
    "\n",
    "if __name__ == '__main__':\n",
    "    print(grams_to_ounces(100))"
   ]
  },
  {
   "cell_type": "markdown",
   "metadata": {},
   "source": [
    "2.Read in a Fahrenheit temperature. Calculate and display the equivalent centigrade temperature. The following formula is used for the conversion: C = (5 / 9) * (F – 32)"
   ]
  },
  {
   "cell_type": "code",
   "execution_count": 2,
   "metadata": {},
   "outputs": [
    {
     "name": "stdout",
     "output_type": "stream",
     "text": [
      "71.11111111111111\n"
     ]
    }
   ],
   "source": [
    "def conversion_formula(f):\n",
    "    return (5 / 9) * (f - 32)\n",
    "\n",
    "if __name__ == '__main__':\n",
    "    temp = float(input(\"Enter Fahrenheit: \"))\n",
    "    print( conversion_formula(temp))"
   ]
  },
  {
   "cell_type": "markdown",
   "metadata": {},
   "source": [
    "3.Write a program to solve a classic puzzle: We count 35 heads and 94 legs among the chickens and rabbits in a farm. How many rabbits and how many chickens do we have? create function: solve(numheads, numlegs):"
   ]
  },
  {
   "cell_type": "code",
   "execution_count": 3,
   "metadata": {},
   "outputs": [
    {
     "name": "stdout",
     "output_type": "stream",
     "text": [
      "(23, 12)\n"
     ]
    }
   ],
   "source": [
    "def solve(numheads, numlegs):\n",
    "    chickens = 2 * numheads - numlegs // 2\n",
    "    rabbits = numheads - chickens\n",
    "    return chickens, rabbits\n",
    "\n",
    "if __name__ == '__main__':\n",
    "    print(solve(35, 94))"
   ]
  },
  {
   "cell_type": "markdown",
   "metadata": {},
   "source": [
    "4.You are given list of numbers separated by spaces. Write a function filter_prime which will take list of numbers as an agrument and returns only prime numbers from the list"
   ]
  },
  {
   "cell_type": "code",
   "execution_count": 4,
   "metadata": {},
   "outputs": [
    {
     "name": "stdout",
     "output_type": "stream",
     "text": [
      "[2, 3, 5, 7, 11, 13]\n"
     ]
    }
   ],
   "source": [
    "def filter_prime(nums):\n",
    "    def is_prime(n):\n",
    "        if n < 2:\n",
    "            return False\n",
    "        for i in range(2, int(n ** 0.5) + 1):\n",
    "            if n % i == 0:\n",
    "                return False\n",
    "        return True\n",
    "    return list(filter(lambda x: is_prime(x), nums))\n",
    "\n",
    "if __name__ == '__main__':\n",
    "    print(filter_prime([1, 2, 3, 4, 5, 6, 7, 8, 9, 10, 11, 12, 13, 14, 15, 16]))"
   ]
  },
  {
   "cell_type": "markdown",
   "metadata": {},
   "source": [
    "5.Write a function that accepts string from user and print all permutations of that string.\n"
   ]
  },
  {
   "cell_type": "code",
   "execution_count": 6,
   "metadata": {},
   "outputs": [
    {
     "name": "stdout",
     "output_type": "stream",
     "text": [
      "KBTU\n",
      "KBUT\n",
      "KTBU\n",
      "KTUB\n",
      "KUBT\n",
      "KUTB\n",
      "BKTU\n",
      "BKUT\n",
      "BTKU\n",
      "BTUK\n",
      "BUKT\n",
      "BUTK\n",
      "TKBU\n",
      "TKUB\n",
      "TBKU\n",
      "TBUK\n",
      "TUKB\n",
      "TUBK\n",
      "UKBT\n",
      "UKTB\n",
      "UBKT\n",
      "UBTK\n",
      "UTKB\n",
      "UTBK\n"
     ]
    }
   ],
   "source": [
    "import itertools\n",
    "def all_permutations(s):\n",
    "    return [''.join(p) for p in itertools.permutations(s)]\n",
    "\n",
    "if __name__ == '__main__':\n",
    "    s = input()\n",
    "    for p in  all_permutations(s):\n",
    "        print(p)"
   ]
  },
  {
   "cell_type": "markdown",
   "metadata": {},
   "source": [
    "6.Write a function that accepts string from user, return a sentence with the words reversed. We are ready -> ready are We"
   ]
  },
  {
   "cell_type": "code",
   "execution_count": 7,
   "metadata": {},
   "outputs": [
    {
     "name": "stdout",
     "output_type": "stream",
     "text": [
      "ready are We\n"
     ]
    }
   ],
   "source": [
    "def reverse_sentence(s):\n",
    "    return ' '.join(s.split()[::-1])\n",
    "\n",
    "if __name__ == '__main__':\n",
    "    s = input()\n",
    "    print(reverse_sentence(s))"
   ]
  },
  {
   "cell_type": "markdown",
   "metadata": {},
   "source": [
    "7.Given a list of ints, return True if the array contains a 3 next to a 3 somewhere."
   ]
  },
  {
   "cell_type": "code",
   "execution_count": 8,
   "metadata": {},
   "outputs": [
    {
     "name": "stdout",
     "output_type": "stream",
     "text": [
      "True\n",
      "False\n",
      "False\n"
     ]
    }
   ],
   "source": [
    "def has_33(nums):\n",
    "    for i in range(len(nums) - 1):\n",
    "        if nums[i] == 3 and nums[i + 1] == 3:\n",
    "            return True\n",
    "    return False\n",
    "\n",
    "if __name__ == '__main__':\n",
    "    print(has_33([1, 3, 3]))\n",
    "    print(has_33([1, 3, 1, 3]))\n",
    "    print(has_33([3, 1, 3]))"
   ]
  },
  {
   "cell_type": "markdown",
   "metadata": {},
   "source": [
    "8.Write a function that takes in a list of integers and returns True if it contains 007 in order"
   ]
  },
  {
   "cell_type": "code",
   "execution_count": 9,
   "metadata": {},
   "outputs": [
    {
     "name": "stdout",
     "output_type": "stream",
     "text": [
      "True\n",
      "True\n"
     ]
    }
   ],
   "source": [
    "\n",
    "def spy_game(nums):\n",
    "    code = [0, 0, 7]\n",
    "    for num in nums:\n",
    "        if num == code[0]:\n",
    "            code.pop(0)\n",
    "        if not code:\n",
    "            return True\n",
    "    return False\n",
    "\n",
    "if __name__ == '__main__':\n",
    "    print(spy_game([6, 9, 7, 0, 0, 7, 5]))\n",
    "    print(spy_game([0, 0, 2, 5, 7, 6, 7]))\n",
    "   "
   ]
  },
  {
   "cell_type": "markdown",
   "metadata": {},
   "source": [
    "9.Write a function that computes the volume of a sphere given its radius."
   ]
  },
  {
   "cell_type": "code",
   "execution_count": 11,
   "metadata": {},
   "outputs": [
    {
     "name": "stdout",
     "output_type": "stream",
     "text": [
      "268.082573106329\n"
     ]
    }
   ],
   "source": [
    "import math\n",
    "def volume(r):\n",
    "    return (4 / 3) * math.pi * r ** 3\n",
    "\n",
    "if __name__ == '__main__':\n",
    "    print(volume(4))"
   ]
  },
  {
   "cell_type": "markdown",
   "metadata": {},
   "source": [
    "10.Write a Python function that takes a list and returns a new list with unique elements of the first list. Note: don't use collection set."
   ]
  },
  {
   "cell_type": "code",
   "execution_count": 12,
   "metadata": {},
   "outputs": [
    {
     "name": "stdout",
     "output_type": "stream",
     "text": [
      "[1, 2, 3, 7, 4, 5]\n"
     ]
    }
   ],
   "source": [
    "def unique_elements(lst):\n",
    "    unique = []\n",
    "    for item in lst:\n",
    "        if item not in unique:\n",
    "            unique.append(item)\n",
    "    return unique\n",
    "\n",
    "if __name__ == '__main__':\n",
    "    print(unique_elements([1, 2, 3, 3, 7, 2, 1, 4, 4, 5, 3]))"
   ]
  },
  {
   "cell_type": "markdown",
   "metadata": {},
   "source": [
    "11.Write a Python function that checks whether a word or phrase is palindrome or not. Note: A palindrome is word, phrase, or sequence that reads the same backward as forward, e.g., madam"
   ]
  },
  {
   "cell_type": "code",
   "execution_count": 13,
   "metadata": {},
   "outputs": [
    {
     "name": "stdout",
     "output_type": "stream",
     "text": [
      "True\n",
      "False\n"
     ]
    }
   ],
   "source": [
    "def is_palindrome(s):\n",
    "    s = s.replace(\" \", \"\").lower()\n",
    "    return s == s[::-1]\n",
    "\n",
    "if __name__ == '__main__':\n",
    "    print(is_palindrome(\"madam\"))\n",
    "    print(is_palindrome(\"hello\"))"
   ]
  },
  {
   "cell_type": "markdown",
   "metadata": {},
   "source": [
    "12.Define a functino histogram() that takes a list of integers and prints a histogram to the screen. For example, histogram([4, 9, 7]) should print the following:"
   ]
  },
  {
   "cell_type": "code",
   "execution_count": 15,
   "metadata": {},
   "outputs": [
    {
     "name": "stdout",
     "output_type": "stream",
     "text": [
      "****\n",
      "*********\n",
      "*******\n"
     ]
    }
   ],
   "source": [
    "def histogram(lst):\n",
    "    for num in lst:\n",
    "        print('*' * num)\n",
    "\n",
    "if __name__ == '__main__':\n",
    "    histogram([4, 9, 7])"
   ]
  },
  {
   "cell_type": "markdown",
   "metadata": {},
   "source": [
    "13.Write a program able to play the \"Guess the number\" - game, where the number to be guessed is randomly chosen between 1 and 20. This is how it should work when run in a terminal:"
   ]
  },
  {
   "cell_type": "code",
   "execution_count": 17,
   "metadata": {},
   "outputs": [
    {
     "name": "stdout",
     "output_type": "stream",
     "text": [
      "Your guess is too low.\n",
      "Your guess is too low.\n",
      "Your guess is too low.\n",
      "Your guess is too low.\n",
      "Your guess is too high.\n",
      "Your guess is too high.\n",
      "Your guess is too high.\n",
      "Your guess is too high.\n",
      "Your guess is too high.\n",
      "Congratulation ! You guessed my number in 10 guesses!\n"
     ]
    }
   ],
   "source": [
    "import random\n",
    "def guess_number():\n",
    "    \n",
    "    number = random.randint(1, 20)\n",
    "    guesses = 0\n",
    "    while True:\n",
    "        guess = int(input(\"Take a guess.\\n\"))\n",
    "        guesses += 1\n",
    "        if guess < number:\n",
    "            print(\"Your guess is too low.\")\n",
    "        elif guess > number:\n",
    "            print(\"Your guess is too high.\")\n",
    "        else:\n",
    "            print(\"Congratulation \"  \"! You guessed my number in \" + str(guesses) + \" guesses!\")\n",
    "            break\n",
    "\n",
    "if __name__ == '__main__':\n",
    "    guess_number()"
   ]
  },
  {
   "cell_type": "markdown",
   "metadata": {},
   "source": []
  }
 ],
 "metadata": {
  "kernelspec": {
   "display_name": "Python 3",
   "language": "python",
   "name": "python3"
  },
  "language_info": {
   "codemirror_mode": {
    "name": "ipython",
    "version": 3
   },
   "file_extension": ".py",
   "mimetype": "text/x-python",
   "name": "python",
   "nbconvert_exporter": "python",
   "pygments_lexer": "ipython3",
   "version": "3.11.9"
  }
 },
 "nbformat": 4,
 "nbformat_minor": 2
}
