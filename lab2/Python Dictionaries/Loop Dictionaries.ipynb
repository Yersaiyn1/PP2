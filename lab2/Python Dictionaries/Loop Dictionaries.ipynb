{
 "cells": [
  {
   "cell_type": "code",
   "execution_count": null,
   "metadata": {},
   "outputs": [],
   "source": [
    "thisdict = {\n",
    "    \"name\": \"Alice\",\n",
    "    \"age\": 25,\n",
    "    \"is_student\": True,\n",
    "    \"hobbies\": [\"reading\", \"gaming\", \"traveling\"],\n",
    "    \"grades\": {\"math\": 85, \"science\": 90, \"history\": 78},\n",
    "    \"coordinates\": (43.25654, 76.92848),\n",
    "    \"favorite_numbers\": [7, 42, 19],\n",
    "    \"pets\": None,\n",
    "    \"random_fact\": \"The honeybee can recognize human faces.\",\n",
    "    \"nested_dict\": {\n",
    "        \"key1\": \"value1\",\n",
    "        \"key2\": [\"a\", \"b\", \"c\"],\n",
    "        \"key3\": {\"inner_key\": \"inner_value\"}\n",
    "    }\n",
    "}\n",
    "for x in thisdict:\n",
    "  print(x)\n",
    "\n",
    "for x in thisdict:\n",
    "  print(thisdict[x])\n",
    "\n",
    "\n",
    "for x in thisdict.values():\n",
    "  print(x)\n",
    "\n",
    "\n",
    "#You can use the keys() method to return the keys of a dictionary:\n",
    "for x in thisdict.keys():\n",
    "  print(x)\n",
    "  \n",
    "#Loop through both keys and values, by using the items() method:\n",
    "for x, y in thisdict.items():\n",
    "  print(x, y)\n",
    "\n"
   ]
  }
 ],
 "metadata": {
  "language_info": {
   "name": "python"
  }
 },
 "nbformat": 4,
 "nbformat_minor": 2
}
