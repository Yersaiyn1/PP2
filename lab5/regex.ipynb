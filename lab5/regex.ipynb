{
 "cells": [
  {
   "cell_type": "markdown",
   "metadata": {},
   "source": [
    "1. Write a Python program that matches a string that has an followed by zero or more 's.'a''b'"
   ]
  },
  {
   "cell_type": "code",
   "execution_count": null,
   "metadata": {},
   "outputs": [
    {
     "name": "stdout",
     "output_type": "stream",
     "text": [
      "Match found!\n"
     ]
    }
   ],
   "source": [
    "import re\n",
    "\n",
    "pattern = r'^ab*$'  \n",
    "string = input(\"Enter a string: \")\n",
    "\n",
    "if re.match(pattern, string):\n",
    "    print(\"Match found!\")\n",
    "else:\n",
    "    print(\"No match.\")\n"
   ]
  },
  {
   "cell_type": "markdown",
   "metadata": {},
   "source": [
    "2. Write a Python program that matches a string that has an followed by two to three .'a''b'"
   ]
  },
  {
   "cell_type": "code",
   "execution_count": null,
   "metadata": {},
   "outputs": [
    {
     "name": "stdout",
     "output_type": "stream",
     "text": [
      "Match found!\n"
     ]
    }
   ],
   "source": [
    "import re\n",
    "\n",
    "pattern = r'^ab{2,3}$'  \n",
    "string = input(\"Enter a string: \")\n",
    "\n",
    "if re.match(pattern, string):\n",
    "    print(\"Match found!\")\n",
    "else:\n",
    "    print(\"No match.\")\n"
   ]
  },
  {
   "cell_type": "markdown",
   "metadata": {},
   "source": [
    "3. Write a Python program to find sequences of lowercase letters joined with a underscore."
   ]
  },
  {
   "cell_type": "code",
   "execution_count": 20,
   "metadata": {},
   "outputs": [
    {
     "name": "stdout",
     "output_type": "stream",
     "text": [
      "Match found!\n"
     ]
    }
   ],
   "source": [
    "import re\n",
    "  \n",
    "pattern = r'^[a-z]+_[a-z]+$'  \n",
    "string = input(\"Enter a string: \")\n",
    "\n",
    "if re.match(pattern, string):\n",
    "    print(\"Match found!\")\n",
    "else:\n",
    "    print(\"No match.\")\n"
   ]
  },
  {
   "cell_type": "markdown",
   "metadata": {},
   "source": [
    "4. Write a Python program to find the sequences of one upper case letter followed by lower case letters."
   ]
  },
  {
   "cell_type": "code",
   "execution_count": 21,
   "metadata": {},
   "outputs": [
    {
     "name": "stdout",
     "output_type": "stream",
     "text": [
      "Matches found: ['Hello']\n"
     ]
    }
   ],
   "source": [
    "import re\n",
    "\n",
    "pattern = r'[A-Z][a-z]+'  \n",
    "string = input(\"Enter a string: \")\n",
    "\n",
    "matches = re.findall(pattern, string)\n",
    "print(\"Matches found:\", matches if matches else \"No match.\")\n"
   ]
  },
  {
   "cell_type": "markdown",
   "metadata": {},
   "source": [
    "5. Write a Python program that matches a string that has an followed by anything, ending in .'a''b'"
   ]
  },
  {
   "cell_type": "code",
   "execution_count": 22,
   "metadata": {},
   "outputs": [
    {
     "name": "stdout",
     "output_type": "stream",
     "text": [
      "Match found!\n"
     ]
    }
   ],
   "source": [
    "import re\n",
    "\n",
    "pattern = r'^a.*b$'   \n",
    "string = input(\"Enter a string: \")\n",
    "\n",
    "match = re.fullmatch(pattern, string)\n",
    "print(\"Match found!\" if match else \"No match.\")\n"
   ]
  },
  {
   "cell_type": "markdown",
   "metadata": {},
   "source": [
    "6.   Write a Python program to replace all occurrences of space, comma, or dot with a colon."
   ]
  },
  {
   "cell_type": "code",
   "execution_count": 23,
   "metadata": {},
   "outputs": [
    {
     "name": "stdout",
     "output_type": "stream",
     "text": [
      "Modified string: Hello::world::How:are:you?\n"
     ]
    }
   ],
   "source": [
    "import re\n",
    "\n",
    "text = input(\"Enter a string: \")  \n",
    "pattern = r\"[ ,.]\"  \n",
    "result = re.sub(pattern, \":\", text)\n",
    "\n",
    "print(\"Modified string:\", result)\n"
   ]
  },
  {
   "cell_type": "markdown",
   "metadata": {},
   "source": [
    "7. Write a python program to convert snake case string to camel case string."
   ]
  },
  {
   "cell_type": "code",
   "execution_count": 24,
   "metadata": {},
   "outputs": [
    {
     "name": "stdout",
     "output_type": "stream",
     "text": [
      "CamelCase string: helloWorldExample\n"
     ]
    }
   ],
   "source": [
    "def snake_to_camel(snake_str):\n",
    "    words = snake_str.split('_')\n",
    "    return words[0] + ''.join(word.capitalize() for word in words[1:])\n",
    "\n",
    "snake_str = input(\"Enter a snake_case string: \")\n",
    "print(\"CamelCase string:\", snake_to_camel(snake_str))\n"
   ]
  },
  {
   "cell_type": "markdown",
   "metadata": {},
   "source": [
    "8. Write a Python program to split a string at uppercase letters."
   ]
  },
  {
   "cell_type": "code",
   "execution_count": 25,
   "metadata": {},
   "outputs": [
    {
     "name": "stdout",
     "output_type": "stream",
     "text": [
      "['Hello', 'World', 'Python']\n"
     ]
    }
   ],
   "source": [
    "import re\n",
    "\n",
    "def split_at_uppercase(s):\n",
    "    return re.findall(r'[A-Z][^A-Z]*', s)\n",
    "\n",
    "string = input(\"Enter a string: \")\n",
    "print(split_at_uppercase(string))"
   ]
  },
  {
   "cell_type": "markdown",
   "metadata": {},
   "source": [
    "9. Write a Python program to insert spaces between words starting with capital letters."
   ]
  },
  {
   "cell_type": "code",
   "execution_count": 26,
   "metadata": {},
   "outputs": [
    {
     "name": "stdout",
     "output_type": "stream",
     "text": [
      "Hello World Python\n"
     ]
    }
   ],
   "source": [
    "import re\n",
    "\n",
    "def insert_spaces(s):\n",
    "    return re.sub(r'(?<!^)([A-Z])', r' \\1', s)\n",
    "\n",
    "string = input(\"Enter a CamelCase string: \")\n",
    "print(insert_spaces(string))\n"
   ]
  },
  {
   "cell_type": "markdown",
   "metadata": {},
   "source": [
    "10. Write a Python program to convert a given camel case string to snake case."
   ]
  },
  {
   "cell_type": "code",
   "execution_count": 27,
   "metadata": {},
   "outputs": [
    {
     "name": "stdout",
     "output_type": "stream",
     "text": [
      "Snake case string: hello_world_example\n"
     ]
    }
   ],
   "source": [
    "import re\n",
    "\n",
    "def camel_to_snake(s):\n",
    "    return re.sub(r'([a-z])([A-Z])', r'\\1_\\2', s).lower()\n",
    "\n",
    "string = input(\"Enter a CamelCase string: \")\n",
    "print(\"Snake case string:\", camel_to_snake(string))\n"
   ]
  }
 ],
 "metadata": {
  "kernelspec": {
   "display_name": "Python 3",
   "language": "python",
   "name": "python3"
  },
  "language_info": {
   "codemirror_mode": {
    "name": "ipython",
    "version": 3
   },
   "file_extension": ".py",
   "mimetype": "text/x-python",
   "name": "python",
   "nbconvert_exporter": "python",
   "pygments_lexer": "ipython3",
   "version": "3.11.9"
  }
 },
 "nbformat": 4,
 "nbformat_minor": 2
}
