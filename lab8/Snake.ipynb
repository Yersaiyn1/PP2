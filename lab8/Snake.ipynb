{
 "cells": [
  {
   "cell_type": "markdown",
   "metadata": {},
   "source": [
    "Extend example project from lecture and add the following functionality:\n",
    "\n",
    "Checking for border (wall) collision and whether the snake is leaving the playing area\n",
    "Generate random position for food, so that it does not fall on a wall or a snake\n",
    "Add levels. For example, when the snake receives 3-4 foods or depending on score \n",
    "Increase speed when the user passes to the next level\n",
    "Add counter to score and level\n",
    "Comment your code"
   ]
  },
  {
   "cell_type": "code",
   "execution_count": 14,
   "metadata": {},
   "outputs": [
    {
     "ename": "SystemExit",
     "evalue": "",
     "output_type": "error",
     "traceback": [
      "An exception has occurred, use %tb to see the full traceback.\n",
      "\u001b[1;31mSystemExit\u001b[0m\n"
     ]
    }
   ],
   "source": [
    "import pygame, random, sys\n",
    "\n",
    "pygame.init()\n",
    "\n",
    "WIDTH, HEIGHT, CELL_SIZE = 400, 300, 25\n",
    "CELL_WIDTH = WIDTH // CELL_SIZE\n",
    "CELL_HEIGHT = HEIGHT // CELL_SIZE\n",
    "\n",
    "screen = pygame.display.set_mode((WIDTH, HEIGHT))\n",
    "pygame.display.set_caption(\"Жылан\")\n",
    "clock = pygame.time.Clock()\n",
    "#дефолтные параметры\n",
    "BASE_SPEED = 7\n",
    "FOOD_PER_LEVEL = 4\n",
    "BLUE = (0, 0, 255)\n",
    "WHITE = (255, 255, 255)\n",
    "BLACK = (0, 0, 0)\n",
    "GRAY  = (100, 100, 100)\n",
    "GOLD = (255, 215, 0)\n",
    "RED = (255, 255, 255)\n",
    "#код для рандомного появление еды\n",
    "def random_food_position(snake):\n",
    "    while True:\n",
    "        pos = (random.randint(0, CELL_WIDTH - 1), random.randint(0, CELL_HEIGHT - 1))\n",
    "        if pos not in snake:\n",
    "            return pos\n",
    "#сетки на поле \n",
    "def draw_grid():\n",
    "    for x in range(0, WIDTH, CELL_SIZE):\n",
    "        pygame.draw.line(screen, GRAY, (x, 0), (x, HEIGHT))\n",
    "    for y in range(0, HEIGHT, CELL_SIZE):\n",
    "        pygame.draw.line(screen, GRAY, (0, y), (WIDTH, y))\n",
    "\n",
    "def main():\n",
    "    snake = [(CELL_WIDTH // 2, CELL_HEIGHT // 2),\n",
    "             (CELL_WIDTH // 2 - 1, CELL_HEIGHT // 2),\n",
    "             (CELL_WIDTH // 2 - 2, CELL_HEIGHT // 2)]\n",
    "    dx, dy = 1, 0\n",
    "    food = random_food_position(snake)\n",
    "    score = 0\n",
    "    level = 1\n",
    "    speed = BASE_SPEED\n",
    "\n",
    "    while True:\n",
    "        clock.tick(speed)\n",
    "        for event in pygame.event.get():\n",
    "            if event.type == pygame.QUIT:\n",
    "                pygame.quit(); sys.exit()\n",
    "            elif event.type == pygame.KEYDOWN:\n",
    "                if event.key == pygame.K_UP and dy == 0: dx, dy = 0, -1\n",
    "                elif event.key == pygame.K_DOWN and dy == 0: dx, dy = 0, 1\n",
    "                elif event.key == pygame.K_LEFT and dx == 0: dx, dy = -1, 0\n",
    "                elif event.key == pygame.K_RIGHT and dx == 0: dx, dy = 1, 0\n",
    "\n",
    "        new_head = (snake[0][0] + dx, snake[0][1] + dy)\n",
    "        if (new_head[0] < 0 or new_head[0] >= CELL_WIDTH or \n",
    "            new_head[1] < 0 or new_head[1] >= CELL_HEIGHT or \n",
    "            new_head in snake):\n",
    "            pygame.quit(); sys.exit()\n",
    "\n",
    "        snake.insert(0, new_head)\n",
    "\n",
    "        if new_head == food:\n",
    "            score += 1\n",
    "            if score % FOOD_PER_LEVEL == 0:\n",
    "                level += 1\n",
    "                speed = BASE_SPEED + (level - 1) * 2\n",
    "            food = random_food_position(snake)\n",
    "        else:\n",
    "            snake.pop()\n",
    "\n",
    "        screen.fill(WHITE)\n",
    "        draw_grid()\n",
    "        for segment in snake:\n",
    "            pygame.draw.rect(screen, BLUE, (segment[0] * CELL_SIZE, segment[1] * CELL_SIZE, CELL_SIZE, CELL_SIZE)) # змейка \n",
    "        pygame.draw.rect(screen, GOLD, (food[0] * CELL_SIZE, food[1] * CELL_SIZE, CELL_SIZE, CELL_SIZE)) # золотое яблоко \n",
    "        \n",
    "        font = pygame.font.SysFont(None, 30)\n",
    "        text = font.render(f\"Score: {score}  Level: {level}\", True, BLACK)\n",
    "        screen.blit(text, (5, 5))\n",
    "        pygame.display.flip()\n",
    "\n",
    "if __name__ == \"__main__\":\n",
    "    main()"
   ]
  },
  {
   "cell_type": "code",
   "execution_count": null,
   "metadata": {},
   "outputs": [],
   "source": []
  }
 ],
 "metadata": {
  "kernelspec": {
   "display_name": "Python 3",
   "language": "python",
   "name": "python3"
  },
  "language_info": {
   "codemirror_mode": {
    "name": "ipython",
    "version": 3
   },
   "file_extension": ".py",
   "mimetype": "text/x-python",
   "name": "python",
   "nbconvert_exporter": "python",
   "pygments_lexer": "ipython3",
   "version": "3.11.9"
  }
 },
 "nbformat": 4,
 "nbformat_minor": 2
}
