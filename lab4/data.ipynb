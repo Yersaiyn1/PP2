{
 "cells": [
  {
   "cell_type": "markdown",
   "metadata": {},
   "source": [
    "1.Write a Python program to subtract five days from current date."
   ]
  },
  {
   "cell_type": "code",
   "execution_count": 18,
   "metadata": {},
   "outputs": [
    {
     "name": "stdout",
     "output_type": "stream",
     "text": [
      "2025-02-16 17:45:44.032042\n",
      "2025-02-17 17:45:44.032042\n",
      "2025-02-18 17:45:44.032042\n",
      "2025-02-19 17:45:44.032042\n",
      "2025-02-20 17:45:44.032042\n"
     ]
    }
   ],
   "source": [
    "import datetime\n",
    "future_date_1 = datetime.datetime.today() + datetime.timedelta(days=1)\n",
    "future_date_2 = datetime.datetime.today() + datetime.timedelta(days=2)\n",
    "future_date_3 = datetime.datetime.today() + datetime.timedelta(days=3)\n",
    "future_date_4 = datetime.datetime.today() + datetime.timedelta(days=4)\n",
    "future_date_5 = datetime.datetime.today() + datetime.timedelta(days=5)\n",
    "print(future_date_1)\n",
    "print(future_date_2)\n",
    "print(future_date_3)\n",
    "print(future_date_4)\n",
    "print(future_date_5)\n"
   ]
  },
  {
   "cell_type": "markdown",
   "metadata": {},
   "source": [
    "2.Write a Python program to print yesterday, today, tomorrow.\n"
   ]
  },
  {
   "cell_type": "code",
   "execution_count": 28,
   "metadata": {},
   "outputs": [
    {
     "name": "stdout",
     "output_type": "stream",
     "text": [
      "2025-02-14 17:51:08.504337\n",
      "2025-02-15 17:51:08.504337\n",
      "2025-02-16 17:51:08.504337\n"
     ]
    }
   ],
   "source": [
    "import datetime \n",
    "yesterday = datetime.datetime.today() - datetime.timedelta(days=1)\n",
    "today = datetime.datetime.today()\n",
    "tomorrow = datetime.datetime.today() + datetime.timedelta(days=1)\n",
    "print(yesterday)\n",
    "print(today)\n",
    "print(tomorrow)"
   ]
  },
  {
   "cell_type": "markdown",
   "metadata": {},
   "source": [
    "Write a Python program to drop microseconds from datetime."
   ]
  },
  {
   "cell_type": "code",
   "execution_count": 1,
   "metadata": {},
   "outputs": [
    {
     "name": "stdout",
     "output_type": "stream",
     "text": [
      "Original Datetime: 2025-02-21 21:35:10.683001\n",
      "Datetime Without Microseconds: 2025-02-21 21:35:10\n"
     ]
    }
   ],
   "source": [
    "from datetime import datetime\n",
    "current_time = datetime.now()\n",
    "time_without_microseconds = current_time.replace(microsecond=0)\n",
    "print(\"Original Datetime:\", current_time)\n",
    "print(\"Datetime Without Microseconds:\", time_without_microseconds)\n"
   ]
  },
  {
   "cell_type": "markdown",
   "metadata": {},
   "source": [
    "4.Write a Python program to calculate two date difference in seconds."
   ]
  },
  {
   "cell_type": "code",
   "execution_count": 8,
   "metadata": {},
   "outputs": [
    {
     "name": "stdout",
     "output_type": "stream",
     "text": [
      "1391400.0\n"
     ]
    }
   ],
   "source": [
    "from datetime import datetime\n",
    "\n",
    "first_data = datetime(2025,2,12,12,0,0)\n",
    "second_data = datetime(2025,2,28,14,30,0)\n",
    "delta = (second_data -first_data).total_seconds()  \n",
    "print(delta)"
   ]
  }
 ],
 "metadata": {
  "kernelspec": {
   "display_name": "Python 3",
   "language": "python",
   "name": "python3"
  },
  "language_info": {
   "codemirror_mode": {
    "name": "ipython",
    "version": 3
   },
   "file_extension": ".py",
   "mimetype": "text/x-python",
   "name": "python",
   "nbconvert_exporter": "python",
   "pygments_lexer": "ipython3",
   "version": "3.11.9"
  }
 },
 "nbformat": 4,
 "nbformat_minor": 2
}
