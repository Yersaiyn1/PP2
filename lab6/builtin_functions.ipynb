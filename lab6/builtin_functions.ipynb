{
 "cells": [
  {
   "cell_type": "markdown",
   "metadata": {},
   "source": [
    "1. Write a Python program with builtin function to multiply all the numbers in a list"
   ]
  },
  {
   "cell_type": "code",
   "execution_count": null,
   "metadata": {},
   "outputs": [],
   "source": [
    "from math import prod\n",
    "\n",
    "numbers = [2, 3, 4, 5]\n",
    "result = prod(numbers)\n",
    "\n",
    "print(\"Product of all numbers:\", result)\n"
   ]
  },
  {
   "cell_type": "markdown",
   "metadata": {},
   "source": [
    "2. Write a Python program with builtin function that accepts a string and calculate the number of upper case letters and lower case letter"
   ]
  },
  {
   "cell_type": "code",
   "execution_count": null,
   "metadata": {},
   "outputs": [],
   "source": [
    "def count_case(s):\n",
    "    upper = sum(1 for char in s if char.isupper())\n",
    "    lower = sum(1 for char in s if char.islower())\n",
    "    return upper, lower\n",
    "\n",
    "text = input(\"Enter a string: \")\n",
    "upper_count, lower_count = count_case(text)\n",
    "\n",
    "print(\"Uppercase letters:\", upper_count)\n",
    "print(\"Lowercase letters:\", lower_count)\n"
   ]
  },
  {
   "cell_type": "markdown",
   "metadata": {},
   "source": [
    "3. Write a Python program with builtin function that checks whether a passed string is palindrome or not"
   ]
  },
  {
   "cell_type": "code",
   "execution_count": 9,
   "metadata": {},
   "outputs": [
    {
     "name": "stdout",
     "output_type": "stream",
     "text": [
      "Palindrome: True\n"
     ]
    }
   ],
   "source": [
    "def is_palindrome(s):\n",
    "    return s == s[::-1]\n",
    "\n",
    "text = input(\"Enter a string: \")\n",
    "print(\"Palindrome:\",  is_palindrome(text))\n"
   ]
  },
  {
   "cell_type": "markdown",
   "metadata": {},
   "source": [
    "4. Write a Python program that invoke square root function after specific milliseconds"
   ]
  },
  {
   "cell_type": "code",
   "execution_count": null,
   "metadata": {},
   "outputs": [],
   "source": [
    "import time\n",
    "import math\n",
    "\n",
    "num = int(input(\"Enter a number: \"))\n",
    "delay = int(input(\"Enter delay in milliseconds: \"))\n",
    "\n",
    "time.sleep(delay / 1000)   \n",
    "result = math.sqrt(num)\n",
    "\n",
    "print(f\"Square root of {num} after {delay} milliseconds is {result}\")\n"
   ]
  },
  {
   "cell_type": "markdown",
   "metadata": {},
   "source": [
    "5. Write a Python program with builtin function that returns True if all elements of the tuple are true."
   ]
  },
  {
   "cell_type": "code",
   "execution_count": null,
   "metadata": {},
   "outputs": [],
   "source": [
    "def all_true(t):\n",
    "    return all(t)\n",
    "\n",
    "values = (True, True, False, True)\n",
    "print(all_true(values)) \n",
    "\n",
    "values = (True, True, True)\n",
    "print(all_true(values)) "
   ]
  },
  {
   "cell_type": "markdown",
   "metadata": {},
   "source": [
    "6. Write a Python program to list only directories, files and all directories, files in a specified path."
   ]
  },
  {
   "cell_type": "code",
   "execution_count": null,
   "metadata": {},
   "outputs": [],
   "source": [
    "def write_list_to_file(filename, lst):\n",
    "    with open(filename, 'w') as file:\n",
    "        for item in lst:\n",
    "            file.write(f\"{item}\\n\")\n",
    "\n",
    "write_list_to_file(\"list.txt\", [\"apple\", \"banana\", \"cherry\"])"
   ]
  },
  {
   "cell_type": "markdown",
   "metadata": {},
   "source": [
    "7. Write a Python program to check for access to a specified path. Test the existence, readability, writability and executability of the specified path\n"
   ]
  },
  {
   "cell_type": "code",
   "execution_count": null,
   "metadata": {},
   "outputs": [],
   "source": [
    "def generate_text_files():\n",
    "    for char in range(65, 91):  # ASCII значения A-Z\n",
    "        with open(f\"{chr(char)}.txt\", \"w\") as file:\n",
    "            file.write(f\"This is file {chr(char)}.txt\\n\")\n",
    "\n",
    "generate_text_files()\n",
    "     "
   ]
  },
  {
   "cell_type": "markdown",
   "metadata": {},
   "source": [
    "8. Write a Python program to test whether a given path exists or not. If the path exist find the filename and directory portion of the given path.\n"
   ]
  },
  {
   "cell_type": "code",
   "execution_count": null,
   "metadata": {},
   "outputs": [],
   "source": [
    "import shutil\n",
    "\n",
    "def copy_file(source, destination):\n",
    "    shutil.copy(source, destination)\n",
    "\n",
    "\n",
    "copy_file(\"list.txt\", \"copy_list.txt\")"
   ]
  },
  {
   "cell_type": "markdown",
   "metadata": {},
   "source": [
    "9. Write a Python program to count the number of lines in a text file.\n"
   ]
  },
  {
   "cell_type": "code",
   "execution_count": null,
   "metadata": {},
   "outputs": [],
   "source": [
    "def delete_file(path):\n",
    "    if os.path.exists(path) and os.access(path, os.W_OK):\n",
    "        os.remove(path)\n",
    "        return \"File deleted\"\n",
    "    return \"File cannot be deleted\"\n",
    "\n",
    "delete_file(\"copy_list.txt\")"
   ]
  },
  {
   "cell_type": "markdown",
   "metadata": {},
   "source": [
    "10. Write a Python program to write a list to a file.\n"
   ]
  },
  {
   "cell_type": "code",
   "execution_count": null,
   "metadata": {},
   "outputs": [],
   "source": [
    "def count_case(s):\n",
    "    upper = sum(1 for c in s if c.isupper())\n",
    "    lower = sum(1 for c in s if c.islower())\n",
    "    return {\"upper\": upper, \"lower\": lower}\n",
    "count_case(\"Hello World!\")"
   ]
  },
  {
   "cell_type": "markdown",
   "metadata": {},
   "source": [
    "11. Write a Python program to generate 26 text files named A.txt, B.txt, and so on up to Z.txt\n"
   ]
  },
  {
   "cell_type": "code",
   "execution_count": null,
   "metadata": {},
   "outputs": [],
   "source": [
    "def is_palindrome(s):\n",
    "    return s == s[::-1]\n",
    "\n",
    " \n",
    "is_palindrome(\"racecar\")"
   ]
  },
  {
   "cell_type": "markdown",
   "metadata": {},
   "source": [
    "12. Write a Python program to copy the contents of a file to another file\n"
   ]
  },
  {
   "cell_type": "code",
   "execution_count": null,
   "metadata": {},
   "outputs": [],
   "source": [
    "import time\n",
    "\n",
    "def sqrt_after_delay(number, milliseconds):\n",
    "    time.sleep(milliseconds / 1000)\n",
    "    return math.sqrt(number)\n",
    "\n",
    "sqrt_after_delay(25100, 2123)"
   ]
  },
  {
   "cell_type": "markdown",
   "metadata": {},
   "source": [
    "13. Write a Python program to delete file by specified path. Before deleting check for access and whether a given path exists or not.\n"
   ]
  },
  {
   "cell_type": "code",
   "execution_count": null,
   "metadata": {},
   "outputs": [],
   "source": [
    "def all_true(tpl):\n",
    "    return all(tpl)\n",
    "\n",
    "all_true((True, True, False))"
   ]
  }
 ],
 "metadata": {
  "kernelspec": {
   "display_name": "Python 3",
   "language": "python",
   "name": "python3"
  },
  "language_info": {
   "codemirror_mode": {
    "name": "ipython",
    "version": 3
   },
   "file_extension": ".py",
   "mimetype": "text/x-python",
   "name": "python",
   "nbconvert_exporter": "python",
   "pygments_lexer": "ipython3",
   "version": "3.11.9"
  }
 },
 "nbformat": 4,
 "nbformat_minor": 2
}
