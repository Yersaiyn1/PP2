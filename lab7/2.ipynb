{
 "cells": [
  {
   "cell_type": "markdown",
   "metadata": {},
   "source": [
    "2. Create music player with keyboard controller. You have to be able to press keyboard: play, stop, next and previous as some keys. Player has to react to the given command appropriately."
   ]
  },
  {
   "cell_type": "code",
   "execution_count": null,
   "metadata": {},
   "outputs": [
    {
     "name": "stdout",
     "output_type": "stream",
     "text": [
      "pygame 2.6.1 (SDL 2.28.4, Python 3.11.9)\n",
      "Hello from the pygame community. https://www.pygame.org/contribute.html\n"
     ]
    }
   ],
   "source": [
    "import pygame\n",
    "\n",
    "pygame.init()\n",
    "pygame.mixer.init()\n",
    "\n",
    "playlist = [\"song1.mp3\", \"song2.mp3\", \"song3.mp3\"]\n",
    "current_track = 0\n",
    "paused = False\n",
    "\n",
    "def play_music(track):\n",
    "    pygame.mixer.music.load(playlist[track])\n",
    "    pygame.mixer.music.play()\n",
    "\n",
    "play_music(current_track)\n",
    "\n",
    "running = True\n",
    "\n",
    "while running:\n",
    "    for event in pygame.event.get():\n",
    "        if event.type == pygame.QUIT:\n",
    "            running = False\n",
    "        \n",
    "        if event.type == pygame.KEYDOWN:\n",
    "            if event.key == pygame.K_p:\n",
    "                if pygame.mixer.music.get_busy():\n",
    "                    pygame.mixer.music.pause()\n",
    "                    paused = True\n",
    "                else:\n",
    "                    pygame.mixer.music.unpause()\n",
    "                    paused = False\n",
    "\n",
    "            elif event.key == pygame.K_s:\n",
    "                pygame.mixer.music.stop()\n",
    "                paused = False\n",
    "\n",
    "            elif event.key == pygame.K_m:\n",
    "                current_track = (current_track + 1) % len(playlist)\n",
    "                play_music(current_track)\n",
    "                paused = False\n",
    "\n",
    "            elif event.key == pygame.K_n:\n",
    "                current_track = (current_track - 1) % len(playlist)\n",
    "                play_music(current_track)\n",
    "                paused = False\n",
    "\n",
    "pygame.quit()\n"
   ]
  }
 ],
 "metadata": {
  "kernelspec": {
   "display_name": "Python 3",
   "language": "python",
   "name": "python3"
  },
  "language_info": {
   "codemirror_mode": {
    "name": "ipython",
    "version": 3
   },
   "file_extension": ".py",
   "mimetype": "text/x-python",
   "name": "python",
   "nbconvert_exporter": "python",
   "pygments_lexer": "ipython3",
   "version": "3.11.9"
  }
 },
 "nbformat": 4,
 "nbformat_minor": 2
}
