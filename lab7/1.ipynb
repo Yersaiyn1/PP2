{
 "cells": [
  {
   "cell_type": "code",
   "execution_count": null,
   "metadata": {},
   "outputs": [
    {
     "ename": "SystemExit",
     "evalue": "",
     "output_type": "error",
     "traceback": [
      "An exception has occurred, use %tb to see the full traceback.\n",
      "\u001b[1;31mSystemExit\u001b[0m\n"
     ]
    }
   ],
   "source": [
    "import pygame\n",
    "import sys\n",
    "import time\n",
    "import math\n",
    "\n",
    " \n",
    "pygame.init()\n",
    " \n",
    "WIDTH, HEIGHT = 800, 800\n",
    "screen = pygame.display.set_mode((WIDTH, HEIGHT))\n",
    "pygame.display.set_caption(\"Mickey Clock\")\n",
    "\n",
    " \n",
    "mickey_image = pygame.image.load('mickey_clock.png').convert_alpha()\n",
    "minute_hand_image = pygame.image.load('right_hand.png').convert_alpha()\n",
    "second_hand_image = pygame.image.load('left_hand.png').convert_alpha()\n",
    "\n",
    " \n",
    "def blit_rotate_center(surf, image, center, angle):\n",
    "    rotated_image = pygame.transform.rotate(image, angle)\n",
    "    new_rect = rotated_image.get_rect(center=center)\n",
    "    surf.blit(rotated_image, new_rect.topleft)\n",
    "\n",
    " \n",
    "clock = pygame.time.Clock()\n",
    "running = True\n",
    "while running:\n",
    "    for event in pygame.event.get():\n",
    "        if event.type == pygame.QUIT:\n",
    "            running = False\n",
    "\n",
    "  \n",
    "    current_time = time.localtime()\n",
    "    minutes = current_time.tm_min\n",
    "    seconds = current_time.tm_sec\n",
    " \n",
    "    minute_angle = -((minutes / 60) * 360)\n",
    "    second_angle = -((seconds / 60) * 360)\n",
    "\n",
    " \n",
    "    screen.fill((255, 255, 255))\n",
    "\n",
    " \n",
    "    mickey_rect = mickey_image.get_rect(center=(WIDTH // 2, HEIGHT // 2))\n",
    "    screen.blit(mickey_image, mickey_rect.topleft)\n",
    "\n",
    " \n",
    "    blit_rotate_center(screen, minute_hand_image, mickey_rect.center, minute_angle)\n",
    "\n",
    "   \n",
    "    blit_rotate_center(screen, second_hand_image, mickey_rect.center, second_angle)\n",
    " \n",
    "    pygame.display.flip()\n",
    "    clock.tick(60)\n",
    "\n",
    "pygame.quit()\n",
    "sys.exit()\n"
   ]
  }
 ],
 "metadata": {
  "kernelspec": {
   "display_name": "Python 3",
   "language": "python",
   "name": "python3"
  },
  "language_info": {
   "codemirror_mode": {
    "name": "ipython",
    "version": 3
   },
   "file_extension": ".py",
   "mimetype": "text/x-python",
   "name": "python",
   "nbconvert_exporter": "python",
   "pygments_lexer": "ipython3",
   "version": "3.11.9"
  }
 },
 "nbformat": 4,
 "nbformat_minor": 2
}
