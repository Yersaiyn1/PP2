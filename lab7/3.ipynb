{
 "cells": [
  {
   "cell_type": "code",
   "execution_count": null,
   "metadata": {},
   "outputs": [],
   "source": [
    "3.Draw circle - a red ball of size 50 x 50 (radius = 25) on white background. When user presses Up, Down, Left, Right arrow keys on keyboard, the ball should move by 20 pixels in the direction of pressed key. The ball should not leave the screen, i.e. user input that leads the ball to leave of the screen should be ignored\n",
    "\n"
   ]
  },
  {
   "cell_type": "code",
   "execution_count": 2,
   "metadata": {},
   "outputs": [],
   "source": [
    "import pygame\n",
    "pygame.init()\n",
    "WIDTH, HEIGHT = 600, 600\n",
    "BALL_RADIUS = 25\n",
    "MOVE_STEP = 20\n",
    "\n",
    "screen = pygame.display.set_mode((WIDTH, HEIGHT))\n",
    "pygame.display.set_caption(\"Moving Ball\")\n",
    "x, y = WIDTH // 2, HEIGHT // 2\n",
    "\n",
    "running = True\n",
    "while running:\n",
    "    pygame.time.delay(50)   \n",
    "    \n",
    "    for event in pygame.event.get():\n",
    "        if event.type == pygame.QUIT:\n",
    "            running = False\n",
    "\n",
    "    keys = pygame.key.get_pressed()\n",
    "    if keys[pygame.K_LEFT] and x - BALL_RADIUS - MOVE_STEP >= 0:\n",
    "        x -= MOVE_STEP\n",
    "    if keys[pygame.K_RIGHT] and x + BALL_RADIUS + MOVE_STEP <= WIDTH:\n",
    "        x += MOVE_STEP\n",
    "    if keys[pygame.K_UP] and y - BALL_RADIUS - MOVE_STEP >= 0:\n",
    "        y -= MOVE_STEP\n",
    "    if keys[pygame.K_DOWN] and y + BALL_RADIUS + MOVE_STEP <= HEIGHT:\n",
    "        y += MOVE_STEP\n",
    "    screen.fill((255, 255, 255))   \n",
    "    pygame.draw.circle(screen, (255, 0, 0), (x, y), BALL_RADIUS)   \n",
    "    pygame.display.update()  \n",
    "pygame.quit()\n"
   ]
  }
 ],
 "metadata": {
  "language_info": {
   "name": "python"
  }
 },
 "nbformat": 4,
 "nbformat_minor": 2
}
