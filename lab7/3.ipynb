{
 "cells": [
  {
   "cell_type": "code",
   "execution_count": null,
   "metadata": {},
   "outputs": [],
   "source": [
    "3.Draw circle - a red ball of size 50 x 50 (radius = 25) on white background. When user presses Up, Down, Left, Right arrow keys on keyboard, the ball should move by 20 pixels in the direction of pressed key. The ball should not leave the screen, i.e. user input  leads the ball to leave of the screen should be ignored\n"
   ]
  },
  {
   "cell_type": "code",
   "execution_count": null,
   "metadata": {},
   "outputs": [
    {
     "ename": "SyntaxError",
     "evalue": "invalid syntax. Perhaps you forgot a comma? (1425927520.py, line 28)",
     "output_type": "error",
     "traceback": [
      "\u001b[1;36m  Cell \u001b[1;32mIn[6], line 28\u001b[1;36m\u001b[0m\n\u001b[1;33m    screen.fill(0 0 0)\u001b[0m\n\u001b[1;37m                ^\u001b[0m\n\u001b[1;31mSyntaxError\u001b[0m\u001b[1;31m:\u001b[0m invalid syntax. Perhaps you forgot a comma?\n"
     ]
    }
   ],
   "source": [
    "import pygame\n",
    "pygame.init()\n",
    "WIDTH, HEIGHT = 600, 600\n",
    "BALL_RADIUS = 25\n",
    "MOVE_STEP = 20\n",
    "\n",
    "screen = pygame.display.set_mode((WIDTH, HEIGHT))\n",
    "pygame.display.set_caption(\"Moving Ball\")\n",
    "x, y = WIDTH // 2, HEIGHT // 2\n",
    "\n",
    "running = True\n",
    "while running:\n",
    "    pygame.time.delay(50)   \n",
    "    \n",
    "    for event in pygame.event.get():\n",
    "        if event.type == pygame.QUIT:\n",
    "            running = False\n",
    "\n",
    "    keys = pygame.key.get_pressed()\n",
    "    if keys[pygame.K_LEFT] and x - BALL_RADIUS - MOVE_STEP >= 0:\n",
    "        x -= MOVE_STEP\n",
    "    if keys[pygame.K_RIGHT] and x + BALL_RADIUS + MOVE_STEP <= WIDTH:\n",
    "        x += MOVE_STEP\n",
    "    if keys[pygame.K_UP] and y - BALL_RADIUS - MOVE_STEP >= 0:\n",
    "        y -= MOVE_STEP\n",
    "    if keys[pygame.K_DOWN] and y + BALL_RADIUS + MOVE_STEP <= HEIGHT:\n",
    "        y += MOVE_STEP\n",
    "    screen.fill((0,0,0))\n",
    "    pygame.draw.circle(screen, (255, 0, 0), (x, y), BALL_RADIUS)   \n",
    "    pygame.display.update()  \n",
    "pygame.quit()\n"
   ]
  }
 ],
 "metadata": {
  "kernelspec": {
   "display_name": "Python 3",
   "language": "python",
   "name": "python3"
  },
  "language_info": {
   "codemirror_mode": {
    "name": "ipython",
    "version": 3
   },
   "file_extension": ".py",
   "mimetype": "text/x-python",
   "name": "python",
   "nbconvert_exporter": "python",
   "pygments_lexer": "ipython3",
   "version": "3.11.9"
  }
 },
 "nbformat": 4,
 "nbformat_minor": 2
}
